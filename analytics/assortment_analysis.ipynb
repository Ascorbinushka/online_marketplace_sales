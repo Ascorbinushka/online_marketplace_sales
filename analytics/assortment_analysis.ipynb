{
 "cells": [
  {
   "metadata": {},
   "cell_type": "markdown",
   "source": [
    "---\n",
    "title: \"Анализ и оптимизация ассортиментной матрицы крупного онлайн-маркетплейса\"\n",
    "subtitle: \"В рамках проекта была проведена детальная аналитика данных о продажах крупного онлайн-маркетплейса. С использованием Python и Jupyter Notebook были выполнены следующие шаги: сбор и подготовка данных, проведение статистического анализа, визуализация результатов и формирование рекомендаций по оптимизации ассортиментной матрицы. В результате были выявлены ключевые закономерности в продажах, предложены меры по увеличению количества продаж, выводу низкопродаваемых товаров из ассортимента и повышению маржинальности.\"\n",
    "author: Ekaterina\n",
    "echo: False\n",
    "format:\n",
    "    pdf:\n",
    "        documentclass: report\n",
    "        mainfont: \"Times New Roman\"\n",
    "        code-fold: true\n",
    "keep-inpynb: true\n",
    "---"
   ],
   "id": "87f86f9cf8e74370"
  },
  {
   "metadata": {
    "ExecuteTime": {
     "end_time": "2025-06-13T08:07:00.680011Z",
     "start_time": "2025-06-13T08:07:00.648045Z"
    }
   },
   "cell_type": "code",
   "source": [
    "import pandas as pd\n",
    "import numpy as np\n",
    "from scipy.stats import mannwhitneyu\n",
    "from scipy import stats\n",
    "from pandas import DataFrame\n",
    "import plotly.io as pio\n",
    "import matplotlib.pyplot as plt\n",
    "from IPython.display import Markdown\n",
    "import gdown\n",
    "\n",
    "pio.templates.default = \"plotly_white\""
   ],
   "id": "ff7697c6093fcfb8",
   "outputs": [],
   "execution_count": 61
  },
  {
   "metadata": {
    "ExecuteTime": {
     "end_time": "2025-06-13T08:07:26.968390Z",
     "start_time": "2025-06-13T08:07:00.768479Z"
    }
   },
   "cell_type": "code",
   "source": [
    "url = 'https://drive.google.com/file/d/1aTq3ZGa7nn7cqmUV724lbZ-5ieBG9QTt/view?usp=sharing'\n",
    "output = 'online_marketplace_sales.csv'\n",
    "gdown.download(url, output, quiet=False, fuzzy=True)\n",
    "df = pd.read_csv(output, parse_dates=[\"purchase_datetime\"])"
   ],
   "id": "e9ad7eb105ea7b7d",
   "outputs": [
    {
     "name": "stderr",
     "output_type": "stream",
     "text": [
      "Downloading...\n",
      "From (original): https://drive.google.com/uc?id=1aTq3ZGa7nn7cqmUV724lbZ-5ieBG9QTt\n",
      "From (redirected): https://drive.google.com/uc?id=1aTq3ZGa7nn7cqmUV724lbZ-5ieBG9QTt&confirm=t&uuid=d27fc9ef-5b3c-4b88-80ad-6909016d4def\n",
      "To: D:\\SynologyDrive\\Ekaterina\\My\\Python\\personal\\online_marketplace_sales\\analytics\\online_marketplace_sales.csv\n",
      "100%|██████████| 143M/143M [00:19<00:00, 7.18MB/s] \n"
     ]
    }
   ],
   "execution_count": 62
  },
  {
   "metadata": {},
   "cell_type": "markdown",
   "source": "## Анализ продаж",
   "id": "330ed84b5191fe82"
  },
  {
   "metadata": {},
   "cell_type": "markdown",
   "source": [
    "В условиях динамично меняющегося рынка и высокой конкуренции, оптимизация ассортиментной матрицы является ключевым фактором для успешного бизнеса. Ассортиментная матрица включает в себя широкий спектр товаров, каждый из которых имеет свои особенности и характеристики. Эффективное управление ассортиментом позволяет не только увеличить объем продаж, но и повысить маржинальность, а также удовлетворить потребности различных сегментов клиентов.\n",
    "\n",
    "**Цель данного анализа** — провести детальный обзор текущего состояния ассортиментной матрицы, выявить ключевые товары, которые приносят наибольшую выручку и объем продаж, а также определить товары, требующие внимания или возможного вывода из ассортимента. Для этого будет проведен **ABC-анализ**, который классифицирует товары на три категории: **A (основные), B (вторичные) и C (незначительные)** по двум ключевым показателям — количеству продаж и выручке.\n",
    "\n",
    "**ABC-анализ** является мощным инструментом для управления ассортиментом, позволяя сфокусироваться на наиболее важных товарах и принять обоснованные решения по их продвижению, оптимизации и, при необходимости, выводу из ассортимента. В результате анализа будут предложены конкретные рекомендации по увеличению объема продаж, повышению маржинальности и улучшению общей эффективности ассортиментной матрицы."
   ],
   "id": "df3883b76092dff"
  },
  {
   "metadata": {
    "ExecuteTime": {
     "end_time": "2025-06-13T08:07:26.986535Z",
     "start_time": "2025-06-13T08:07:26.970397Z"
    }
   },
   "cell_type": "code",
   "source": [
    "\n",
    "def perform_abc(df:DataFrame, index:str) -> DataFrame:\n",
    "    \"\"\"\n",
    "    :param df: датафрейм\n",
    "    :param index: название столбца по которому выполняем группировку \n",
    "    :return: abc анализ\n",
    "    \"\"\"\n",
    "    # Убираем столбец группировки\n",
    "    cols = (list(df.columns))  # Получаем список всех столбцов DataFrame\n",
    "    cols.remove(index)  # Удаляем из списка столбец, который используется для группировки\n",
    "\n",
    "    # Производим суммирование по остальным столбцам с использованием dict comprehension\n",
    "    groupped_df = df.groupby(index).agg({col: 'sum' for col in cols})  # Группируем DataFrame по столбцу index и суммируем значения по остальным столбцам\n",
    "\n",
    "    for col in cols:\n",
    "        # Вычисляем относительные значения для каждого столбца\n",
    "        groupped_df[f'rel_{col}'] = groupped_df[col] / sum(groupped_df[col])\n",
    "        \n",
    "        # Сортируем DataFrame по относительным значениям в порядке убывания\n",
    "        groupped_df = groupped_df.sort_values(f'rel_{col}', ascending=False)\n",
    "        \n",
    "        # Вычисляем накопленные суммы для каждого столбца\n",
    "        groupped_df[f'cumsum_{col}'] = groupped_df[f'rel_{col}'].cumsum()\n",
    "        \n",
    "        # Присваиваем категории A, B, C на основе накопленных сумм\n",
    "        groupped_df[f'abc_{col}'] = np.where(groupped_df[f'cumsum_{col}'] < 0.8, 'A', np.where(groupped_df[f'cumsum_{col}'] < 0.95, 'B', 'C'))\n",
    "\n",
    "    # Возвращаем DataFrame с исходными столбцами и новыми столбцами категорий\n",
    "    return groupped_df[cols + [f'abc_{col}' for col in cols]]"
   ],
   "id": "60011e25cc1f491f",
   "outputs": [],
   "execution_count": 63
  },
  {
   "metadata": {
    "ExecuteTime": {
     "end_time": "2025-06-13T08:07:27.305717Z",
     "start_time": "2025-06-13T08:07:26.992546Z"
    }
   },
   "cell_type": "code",
   "source": [
    "df1 = df[['product_id', 'quantity', 'total_price']]\n",
    "\n",
    "df_abc = perform_abc(df=df1, index='product_id')\n",
    "df_abc"
   ],
   "id": "19461d866415c727",
   "outputs": [
    {
     "data": {
      "text/plain": [
       "            quantity  total_price abc_quantity abc_total_price\n",
       "product_id                                                    \n",
       "37181           2348  126506926.0            A               A\n",
       "30239           2121  122577085.0            A               A\n",
       "22406           2119  122007891.0            A               A\n",
       "10292           2202  121115031.0            A               A\n",
       "45018           2235  118322228.0            A               A\n",
       "...              ...          ...          ...             ...\n",
       "35351           1261       4154.0            A               C\n",
       "22981           1578       3960.0            A               C\n",
       "25894           1884       1792.0            A               C\n",
       "38944           1056       1453.0            B               C\n",
       "5945            1323        654.0            A               C\n",
       "\n",
       "[50000 rows x 4 columns]"
      ],
      "text/html": [
       "<div>\n",
       "<style scoped>\n",
       "    .dataframe tbody tr th:only-of-type {\n",
       "        vertical-align: middle;\n",
       "    }\n",
       "\n",
       "    .dataframe tbody tr th {\n",
       "        vertical-align: top;\n",
       "    }\n",
       "\n",
       "    .dataframe thead th {\n",
       "        text-align: right;\n",
       "    }\n",
       "</style>\n",
       "<table border=\"1\" class=\"dataframe\">\n",
       "  <thead>\n",
       "    <tr style=\"text-align: right;\">\n",
       "      <th></th>\n",
       "      <th>quantity</th>\n",
       "      <th>total_price</th>\n",
       "      <th>abc_quantity</th>\n",
       "      <th>abc_total_price</th>\n",
       "    </tr>\n",
       "    <tr>\n",
       "      <th>product_id</th>\n",
       "      <th></th>\n",
       "      <th></th>\n",
       "      <th></th>\n",
       "      <th></th>\n",
       "    </tr>\n",
       "  </thead>\n",
       "  <tbody>\n",
       "    <tr>\n",
       "      <th>37181</th>\n",
       "      <td>2348</td>\n",
       "      <td>126506926.0</td>\n",
       "      <td>A</td>\n",
       "      <td>A</td>\n",
       "    </tr>\n",
       "    <tr>\n",
       "      <th>30239</th>\n",
       "      <td>2121</td>\n",
       "      <td>122577085.0</td>\n",
       "      <td>A</td>\n",
       "      <td>A</td>\n",
       "    </tr>\n",
       "    <tr>\n",
       "      <th>22406</th>\n",
       "      <td>2119</td>\n",
       "      <td>122007891.0</td>\n",
       "      <td>A</td>\n",
       "      <td>A</td>\n",
       "    </tr>\n",
       "    <tr>\n",
       "      <th>10292</th>\n",
       "      <td>2202</td>\n",
       "      <td>121115031.0</td>\n",
       "      <td>A</td>\n",
       "      <td>A</td>\n",
       "    </tr>\n",
       "    <tr>\n",
       "      <th>45018</th>\n",
       "      <td>2235</td>\n",
       "      <td>118322228.0</td>\n",
       "      <td>A</td>\n",
       "      <td>A</td>\n",
       "    </tr>\n",
       "    <tr>\n",
       "      <th>...</th>\n",
       "      <td>...</td>\n",
       "      <td>...</td>\n",
       "      <td>...</td>\n",
       "      <td>...</td>\n",
       "    </tr>\n",
       "    <tr>\n",
       "      <th>35351</th>\n",
       "      <td>1261</td>\n",
       "      <td>4154.0</td>\n",
       "      <td>A</td>\n",
       "      <td>C</td>\n",
       "    </tr>\n",
       "    <tr>\n",
       "      <th>22981</th>\n",
       "      <td>1578</td>\n",
       "      <td>3960.0</td>\n",
       "      <td>A</td>\n",
       "      <td>C</td>\n",
       "    </tr>\n",
       "    <tr>\n",
       "      <th>25894</th>\n",
       "      <td>1884</td>\n",
       "      <td>1792.0</td>\n",
       "      <td>A</td>\n",
       "      <td>C</td>\n",
       "    </tr>\n",
       "    <tr>\n",
       "      <th>38944</th>\n",
       "      <td>1056</td>\n",
       "      <td>1453.0</td>\n",
       "      <td>B</td>\n",
       "      <td>C</td>\n",
       "    </tr>\n",
       "    <tr>\n",
       "      <th>5945</th>\n",
       "      <td>1323</td>\n",
       "      <td>654.0</td>\n",
       "      <td>A</td>\n",
       "      <td>C</td>\n",
       "    </tr>\n",
       "  </tbody>\n",
       "</table>\n",
       "<p>50000 rows × 4 columns</p>\n",
       "</div>"
      ]
     },
     "execution_count": 64,
     "metadata": {},
     "output_type": "execute_result"
    }
   ],
   "execution_count": 64
  },
  {
   "metadata": {},
   "cell_type": "markdown",
   "source": "",
   "id": "8f3e24f9967aaf9a"
  },
  {
   "metadata": {
    "ExecuteTime": {
     "end_time": "2025-06-13T08:07:27.566725Z",
     "start_time": "2025-06-13T08:07:27.307724Z"
    }
   },
   "cell_type": "code",
   "source": [
    "# Подсчет количества товаров по каждому ABC-сегменту\n",
    "q_counts = df_abc['abc_quantity'].value_counts()\n",
    "t_counts = df_abc['abc_total_price'].value_counts()\n",
    "\n",
    "# Построение столбчатой диаграммы\n",
    "fig, ax = plt.subplots()\n",
    "\n",
    "bar_width = 0.4\n",
    "x_labels = ['A', 'B', 'C']\n",
    "x_positions = range(len(x_labels))\n",
    "\n",
    "bars_q = ax.bar([x - bar_width/2 for x in x_positions], q_counts.reindex(x_labels, fill_value=0), width=bar_width, label=\"Количество продаж\")\n",
    "bars_t = ax.bar([x + bar_width/2 for x in x_positions], t_counts.reindex(x_labels, fill_value=0), width=bar_width, label=\"Выручка\")\n",
    "\n",
    "# Добавление подписей с количеством над столбцами\n",
    "for bar in bars_q:\n",
    "    ax.text(bar.get_x() + bar.get_width()/2, bar.get_height(), str(int(bar.get_height())), ha='center', va='bottom', fontsize=10)\n",
    "    \n",
    "for bar in bars_t:\n",
    "    ax.text(bar.get_x() + bar.get_width()/2, bar.get_height(), str(int(bar.get_height())), ha='center', va='bottom', fontsize=10)\n",
    "\n",
    "ax.set_xticks(x_positions)\n",
    "ax.set_xticklabels(x_labels)\n",
    "ax.set_xlabel(\"ABC-сегмент\")\n",
    "ax.set_ylabel(\"Количество товаров\")\n",
    "ax.set_title(\"Распределение товаров по ABC-сегментам\")\n",
    "ax.legend()\n",
    "plt.show()\n",
    "plt.show()"
   ],
   "id": "877d592d523523dc",
   "outputs": [
    {
     "data": {
      "text/plain": [
       "<Figure size 640x480 with 1 Axes>"
      ],
      "image/png": "[encoded data removed]"
     },
     "metadata": {},
     "output_type": "display_data"
    }
   ],
   "execution_count": 65
  },
  {
   "metadata": {},
   "cell_type": "markdown",
   "source": [
    "## Группа AA (Высокая выручка и высокий объем продаж)\n",
    "**Рекомендации:**\n",
    "\n",
    "- **Поддержание текущих стратегий:** Необходимо поддерживать текущие маркетинговые и продажные стратегии для этих товаров.\n",
    "- **Улучшение ассортимента:** Можно рассмотреть возможность улучшения ассортимента или добавления сопутствующих товаров для увеличения кросс-продаж. Например, если товар из группы AA часто покупается вместе с другим товаром, рассмотрите возможность размещения их рядом на полке или в одном рекламном блоке.\n",
    "- **Лояльность клиентов:** Стоит попробовать ввести программы лояльности для клиентов, которые часто покупают эти товары, чтобы стимулировать повторные покупки. Например, предоставить скидку на последующую покупку или начисление бонусов"
   ],
   "id": "eb468eb731a7a2be"
  },
  {
   "metadata": {},
   "cell_type": "markdown",
   "source": [
    "## Группа AC (Высокая выручка, но низкий объем продаж)\n",
    "**Рекомендации:** Эта категория товаров приносит значительную выручку, но продаётся в небольших объемах. Возможно, речь идёт о премиальных или нишевых товарах с высокой ценой. Чтобы увеличить продажи, можно рассмотреть стратегии стимулирования спроса:\n",
    "\n",
    "- **Развитие маркетинга** – усилить продвижение товаров, сделать акцент на их уникальных характеристиках и ценности.\n",
    "- **Акции и специальные предложения** – например, добавить бонусы при покупке или предложить скидки на следующий заказ.\n",
    "- **Работа с ассортиментом** – если товар ограничен в доступности, стоит рассмотреть расширение его присутствия, улучшение логистики или пересмотр ценообразования.\n",
    "\n",
    "**Главная цель** – сохранить высокую выручку, но при этом найти способы увеличения количества проданных единиц без снижения маржинальности."
   ],
   "id": "3f9414557c9e7303"
  },
  {
   "metadata": {},
   "cell_type": "markdown",
   "source": [
    "## Группа AB (Высокая выручка и средний объем продаж)\n",
    "**Рекомендации:**\n",
    "\n",
    "- **Акции и скидки:** Проведение акций и скидок поможет стимулировать увеличение объема продаж. Например, скидка 20% на товар, если он покупается в определенное время года или в рамках специальной акции.\n",
    "- **Продвижение:** Стоит поработать над маркетинговым продвижение этих товаров, возможно, через социальные сети или email-рассылки. Например, вирусный рекламный ролик или пост в социальных сетях, который привлечет внимание к товару.\n",
    "- **Специальные предложения:** Специальные предложения или пакеты для привлечения новых клиентов. Например, комплект из нескольких товаров по сниженной цене."
   ],
   "id": "d5506e3deaa48815"
  },
  {
   "metadata": {},
   "cell_type": "markdown",
   "source": [
    "## Группа BA (Средняя выручка, но высокий объем продаж)\n",
    "**Рекомендации:**\n",
    "\n",
    "- **Анализ цен:** Следует провести анализ цен и рассмотрите возможность снижения цен для увеличения выручки.\n",
    "- **Скидки и акции:** Проведение скидок и акций для стимулирования покупок этих товаров (см. выше). \n",
    "- **Продвижение:** Маркетинговое продвижение этих товаров, возможно, через социальные сети или email-рассылки (см. выше)."
   ],
   "id": "6279adb84fc4bed1"
  },
  {
   "metadata": {},
   "cell_type": "markdown",
   "source": [
    "## Группа BB (Средняя выручка и средний объем продаж)\n",
    "**Рекомендации:**\n",
    "Рекомендации не отличаются от предложенных выше."
   ],
   "id": "28c499986c55e28c"
  },
  {
   "metadata": {},
   "cell_type": "markdown",
   "source": [
    "## Группа BC (Средняя выручка, но низкий объем продаж)\n",
    "**Рекомендации:**\n",
    "Эти товары приносят неплохую выручку, но продаются редко. Чтобы увеличить продажи, стоит привлечь больше внимания к данной категории. Можно провести акции и специальные предложения, стимулируя спрос. Если товары являются нишевыми или малоизвестными, рекомендуется усилить маркетинговую поддержку: разместить рекламу, подробно описать их преимущества и области применения, а также повысить узнаваемость среди целевой аудитории."
   ],
   "id": "29522d0f1bb0fc94"
  },
  {
   "metadata": {},
   "cell_type": "markdown",
   "source": [
    "## Группа CA (Низкая выручка, но высокий объем продаж)\n",
    "**Рекомендации:** Для этой категории товаров не требуется кардинальных изменений, поскольку они относятся к товарам первой необходимости, пользуются стабильным спросом и имеют невысокую стоимость. Однако можно рассмотреть стратегии повышения среднего чека, например, акции типа «Купите два, третий со скидкой». Дополнительно стоит провести анализ цен у конкурентов и оценить возможности оптимизации ценообразования, чтобы сохранить конкурентное преимущество и увеличить маржинальность.\n"
   ],
   "id": "1b40f179abf099aa"
  },
  {
   "metadata": {},
   "cell_type": "markdown",
   "source": [
    "## Группа CB (Низкая выручка, но средний объем продаж)\n",
    "**Рекомендации:** Эта категория схожа с группой CA, однако здесь стоит уделить больше внимания возможностям увеличения выручки. Можно рассмотреть пересмотр ценовой политики, усиление маркетингового продвижения или внедрение специальных предложений, которые стимулируют спрос"
   ],
   "id": "d5bf64079b5320e7"
  },
  {
   "metadata": {},
   "cell_type": "markdown",
   "source": [
    "## Группа CC (Низкая выручка и низкий объем продаж)\n",
    "**Рекомендации:**\n",
    "\n",
    "- **Анализ причин:** Чтобы понять причины низких продаж и выручки, необходимо провести анализ данных или собрать обратную связь от клиентов. Если товар не пользуется спросом, стоит рассмотреть варианты его улучшения — от изменения характеристик до обновления дизайна.\n",
    "- **Снижение затрат:** Также необходимо изучить способы снижения затрат на производство и логистику. Если товар требует значительных вложений, оптимизация производственных процессов, может повысить его рентабельность.\n",
    "- **Вывод из ассортимента:** Если товар не приносит выручки и не имеет перспектив для роста, стоит рассмотреть возможность его исключения из ассортимента. Важно оценить, можно ли улучшить его характеристики или маркетинговое продвижение, но если потенциала нет, лучше освободить место для более прибыльных позиций."
   ],
   "id": "23e42983e4753970"
  },
  {
   "metadata": {},
   "cell_type": "markdown",
   "source": [
    "## Гипотеза\n",
    "\n",
    "Можно предположить, что существует разница в покупательском поведении мужчин и женщин. Исторически женщины совершают больше покупок, но это требует статистического подтверждения.\n",
    "\n",
    "Для проверки гипотезы необходимо разделить данные на группы **M** (мужчины) и **F** (женщины) и проанализировать их распределение.\n",
    "\n",
    "Будет использоваться **Тест Колмогорова-Смирнова** и **Q-Q график** для оценки характера распределения. Исходя из полученных данных, будет выбран наиболее подходящий статистический метод для окончательной проверки гипотезы."
   ],
   "id": "c988eee15621ff6c"
  },
  {
   "metadata": {
    "ExecuteTime": {
     "end_time": "2025-06-13T08:07:28.272177Z",
     "start_time": "2025-06-13T08:07:27.568886Z"
    }
   },
   "cell_type": "code",
   "source": [
    "# Разделение данных на две группы: мужчины и женщины\n",
    "male_data = df[df['gender'] == 'M']\n",
    "female_data = df[df['gender'] == 'F']"
   ],
   "id": "eddd7d68f256ecdc",
   "outputs": [],
   "execution_count": 66
  },
  {
   "metadata": {
    "ExecuteTime": {
     "end_time": "2025-06-13T08:07:28.639154Z",
     "start_time": "2025-06-13T08:07:28.273182Z"
    }
   },
   "cell_type": "code",
   "source": [
    "# Тест Колмогорова-Смирнова для мужчин\n",
    "ks_stat_male, ks_p_value_male = stats.kstest(male_data['quantity'], 'norm', args=(male_data['quantity'].mean(), male_data['quantity'].std()))\n",
    "alpha = 0.05\n",
    "if ks_p_value_male < alpha:\n",
    "    male_message = \"Распределение (Мужчин) значительно отличается от нормального\"\n",
    "else:\n",
    "    male_message = \"Нет достаточных оснований утверждать, что распределение отличается от нормального\"\n",
    "# Тест Колмогорова-Смирнова для женщин\n",
    "ks_stat_female, ks_p_value_female = stats.kstest(female_data['quantity'], 'norm', args=(female_data['quantity'].mean(), female_data['quantity'].std()))\n",
    "if ks_p_value_female < alpha:\n",
    "    female_message = \"Распределение (Женщин) значительно отличается от нормального\"\n",
    "else:\n",
    "    female_message = \"Нет достаточных оснований утверждать, что распределение отличается от нормального\""
   ],
   "id": "5355f62dab7066ca",
   "outputs": [],
   "execution_count": 67
  },
  {
   "metadata": {
    "ExecuteTime": {
     "end_time": "2025-06-13T08:07:28.653057Z",
     "start_time": "2025-06-13T08:07:28.641163Z"
    }
   },
   "cell_type": "code",
   "source": [
    "display(Markdown(male_message))\n",
    "display(Markdown(female_message))"
   ],
   "id": "6f0988c4f3b0f021",
   "outputs": [
    {
     "data": {
      "text/plain": [
       "<IPython.core.display.Markdown object>"
      ],
      "text/markdown": "Распределение (Мужчин) значительно отличается от нормального"
     },
     "metadata": {},
     "output_type": "display_data"
    },
    {
     "data": {
      "text/plain": [
       "<IPython.core.display.Markdown object>"
      ],
      "text/markdown": "Распределение (Женщин) значительно отличается от нормального"
     },
     "metadata": {},
     "output_type": "display_data"
    }
   ],
   "execution_count": 68
  },
  {
   "metadata": {
    "ExecuteTime": {
     "end_time": "2025-06-13T08:07:33.833528Z",
     "start_time": "2025-06-13T08:07:28.655066Z"
    }
   },
   "cell_type": "code",
   "source": [
    "fig, axes = plt.subplots(1, 2, figsize=(12, 6))  # Два графика в одном ряду\n",
    "\n",
    "# Q-Q график для мужчин\n",
    "stats.probplot(male_data['quantity'], dist=\"norm\", plot=axes[0])\n",
    "axes[0].set_title('Q-Q график для мужчин')\n",
    "\n",
    "# Q-Q график для женщин\n",
    "stats.probplot(female_data['quantity'], dist=\"norm\", plot=axes[1])\n",
    "axes[1].set_title('Q-Q график для женщин')\n",
    "\n",
    "plt.tight_layout()  # Улучшает расположение графиков\n",
    "plt.show()"
   ],
   "id": "5d8d04dc5c53cc7b",
   "outputs": [
    {
     "data": {
      "text/plain": [
       "<Figure size 1200x600 with 2 Axes>"
      ],
      "image/png": "[encoded data removed]"
     },
     "metadata": {},
     "output_type": "display_data"
    }
   ],
   "execution_count": 69
  },
  {
   "metadata": {},
   "cell_type": "markdown",
   "source": "На основе графиков и статистических методов определения распределения данных можно сделать вывод, что данные распределены неравномерно. Поэтому для проверки гипотезы будет использоваться непараметрический метод – Манн-Уитни U-тест.",
   "id": "1e0b92678c689366"
  },
  {
   "metadata": {
    "ExecuteTime": {
     "end_time": "2025-06-13T08:07:34.286495Z",
     "start_time": "2025-06-13T08:07:33.838525Z"
    }
   },
   "cell_type": "code",
   "source": [
    "u_stat, p_value = mannwhitneyu(male_data['quantity'], female_data['quantity'], alternative='two-sided')\n",
    "ms = f'U-статистика: {u_stat}, P-значение: {p_value}'\n",
    "\n",
    "if p_value < 0.05:\n",
    "    st = \"Статистический анализ выявил значимые различия в среднем количестве покупок между мужчинами и женщинами.\"\n",
    "else:\n",
    "    st = \"Статистический анализ не выявил значимые различия в среднем количестве покупок между мужчинами и женщинами.\""
   ],
   "id": "eb72e612760af47d",
   "outputs": [],
   "execution_count": 70
  },
  {
   "metadata": {
    "ExecuteTime": {
     "end_time": "2025-06-13T08:07:34.310508Z",
     "start_time": "2025-06-13T08:07:34.293513Z"
    }
   },
   "cell_type": "code",
   "source": [
    "display(Markdown(ms))\n",
    "display(Markdown(st))"
   ],
   "id": "d71682c31b9d6576",
   "outputs": [
    {
     "data": {
      "text/plain": [
       "<IPython.core.display.Markdown object>"
      ],
      "text/markdown": "U-статистика: 520159666496.5, P-значение: 0.8509255010496187"
     },
     "metadata": {},
     "output_type": "display_data"
    },
    {
     "data": {
      "text/plain": [
       "<IPython.core.display.Markdown object>"
      ],
      "text/markdown": "Статистический анализ не выявил значимые различия в среднем количестве покупок между мужчинами и женщинами."
     },
     "metadata": {},
     "output_type": "display_data"
    }
   ],
   "execution_count": 71
  }
 ],
 "metadata": {
  "kernelspec": {
   "display_name": "Python 3",
   "language": "python",
   "name": "python3"
  },
  "language_info": {
   "codemirror_mode": {
    "name": "ipython",
    "version": 2
   },
   "file_extension": ".py",
   "mimetype": "text/x-python",
   "name": "python",
   "nbconvert_exporter": "python",
   "pygments_lexer": "ipython2",
   "version": "2.7.6"
  }
 },
 "nbformat": 4,
 "nbformat_minor": 5
}
